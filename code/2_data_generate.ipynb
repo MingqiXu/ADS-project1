{
 "cells": [
  {
   "cell_type": "code",
   "execution_count": 1,
   "metadata": {
    "collapsed": true
   },
   "outputs": [],
   "source": [
    "import pandas as pd\n",
    "import numpy as np\n",
    "from scipy import sparse\n",
    "import warnings\n",
    "import utils\n",
    "warnings.filterwarnings(\"ignore\")"
   ]
  },
  {
   "cell_type": "code",
   "execution_count": 2,
   "outputs": [],
   "source": [
    "weather = pd.read_csv('../raw_data/weather.csv', index_col=0)\n",
    "\n",
    "train_df = pd.concat([pd.read_csv('../raw_data/yellow_tripdata_2018-06.csv'),\n",
    "                      pd.read_csv('../raw_data/yellow_tripdata_2018-07.csv')])\n",
    "train_X, train_y, onehoe_enc, scaler = utils.preprocessing(train_df, weather, [2018, 6, 1], [2018, 7, 31])\n",
    "sparse.save_npz('../preprocessed_data/train_X.npz', train_X)\n",
    "np.save('../preprocessed_data/train_y.npy', train_y)\n",
    "\n",
    "valid_df = pd.read_csv('../raw_data/yellow_tripdata_2018-08.csv')\n",
    "valid_X, valid_y, _, _ = utils.preprocessing(valid_df, weather, [2018, 8, 1], [2018, 8, 31], onehoe_enc, scaler)\n",
    "sparse.save_npz('../preprocessed_data/valid_X.npz', valid_X)\n",
    "np.save('../preprocessed_data/valid_y.npy', valid_y)\n",
    "\n",
    "test_df = pd.read_csv('../raw_data/yellow_tripdata_2018-09.csv')\n",
    "test_X, test_y, _, _ = utils.preprocessing(test_df, weather, [2018, 9, 1], [2018, 9, 30], onehoe_enc, scaler)\n",
    "sparse.save_npz('../preprocessed_data/test_X.npz', test_X)\n",
    "np.save('../preprocessed_data/test_y.npy', test_y)\n"
   ],
   "metadata": {
    "collapsed": false,
    "pycharm": {
     "name": "#%%\n"
    }
   }
  },
  {
   "cell_type": "code",
   "execution_count": 3,
   "outputs": [
    {
     "data": {
      "text/plain": "(9430744, 573)"
     },
     "execution_count": 3,
     "metadata": {},
     "output_type": "execute_result"
    }
   ],
   "source": [
    "train_X.shape"
   ],
   "metadata": {
    "collapsed": false,
    "pycharm": {
     "name": "#%%\n"
    }
   }
  },
  {
   "cell_type": "code",
   "execution_count": 4,
   "outputs": [
    {
     "data": {
      "text/plain": "               name category\n0      PULocationID        1\n1      PULocationID        2\n2      PULocationID        3\n3      PULocationID        4\n4      PULocationID        5\n..              ...      ...\n0   passenger_count         \n1     trip_distance         \n2       fare_amount         \n3        tip_amount         \n4      total_amount         \n\n[573 rows x 2 columns]",
      "text/html": "<div>\n<style scoped>\n    .dataframe tbody tr th:only-of-type {\n        vertical-align: middle;\n    }\n\n    .dataframe tbody tr th {\n        vertical-align: top;\n    }\n\n    .dataframe thead th {\n        text-align: right;\n    }\n</style>\n<table border=\"1\" class=\"dataframe\">\n  <thead>\n    <tr style=\"text-align: right;\">\n      <th></th>\n      <th>name</th>\n      <th>category</th>\n    </tr>\n  </thead>\n  <tbody>\n    <tr>\n      <th>0</th>\n      <td>PULocationID</td>\n      <td>1</td>\n    </tr>\n    <tr>\n      <th>1</th>\n      <td>PULocationID</td>\n      <td>2</td>\n    </tr>\n    <tr>\n      <th>2</th>\n      <td>PULocationID</td>\n      <td>3</td>\n    </tr>\n    <tr>\n      <th>3</th>\n      <td>PULocationID</td>\n      <td>4</td>\n    </tr>\n    <tr>\n      <th>4</th>\n      <td>PULocationID</td>\n      <td>5</td>\n    </tr>\n    <tr>\n      <th>...</th>\n      <td>...</td>\n      <td>...</td>\n    </tr>\n    <tr>\n      <th>0</th>\n      <td>passenger_count</td>\n      <td></td>\n    </tr>\n    <tr>\n      <th>1</th>\n      <td>trip_distance</td>\n      <td></td>\n    </tr>\n    <tr>\n      <th>2</th>\n      <td>fare_amount</td>\n      <td></td>\n    </tr>\n    <tr>\n      <th>3</th>\n      <td>tip_amount</td>\n      <td></td>\n    </tr>\n    <tr>\n      <th>4</th>\n      <td>total_amount</td>\n      <td></td>\n    </tr>\n  </tbody>\n</table>\n<p>573 rows × 2 columns</p>\n</div>"
     },
     "execution_count": 4,
     "metadata": {},
     "output_type": "execute_result"
    }
   ],
   "source": [
    "# discrete attribute\n",
    "\n",
    "attribute_dic = {}\n",
    "for i, j in enumerate(utils.columns_discrete):\n",
    "    attribute_dic['x' + str(i)] = j\n",
    "attribute_name = pd.DataFrame(onehoe_enc.get_feature_names(), columns=['attribute_name'])\n",
    "attribute_name['name'] = attribute_name['attribute_name'].map(lambda x: x.split('_')[0])\n",
    "attribute_name['name'] = attribute_name['name'].map(lambda x: attribute_dic[x])\n",
    "attribute_name['category'] = attribute_name['attribute_name'].map(lambda x: x.split('_')[1])\n",
    "attribute_name = attribute_name[['name', 'category']]\n",
    "\n",
    "# continuous attribute\n",
    "attribute_name = attribute_name.append(pd.DataFrame([[i, ''] for i in utils.columns_continuous],\n",
    "                                                    columns=['name', 'category']))\n",
    "\n",
    "attribute_name.to_csv('../preprocessed_data/attribute_dic.csv')\n",
    "attribute_name\n"
   ],
   "metadata": {
    "collapsed": false,
    "pycharm": {
     "name": "#%%\n"
    }
   }
  },
  {
   "cell_type": "code",
   "execution_count": 4,
   "outputs": [],
   "source": [],
   "metadata": {
    "collapsed": false,
    "pycharm": {
     "name": "#%%\n"
    }
   }
  }
 ],
 "metadata": {
  "kernelspec": {
   "display_name": "Python 3",
   "language": "python",
   "name": "python3"
  },
  "language_info": {
   "codemirror_mode": {
    "name": "ipython",
    "version": 2
   },
   "file_extension": ".py",
   "mimetype": "text/x-python",
   "name": "python",
   "nbconvert_exporter": "python",
   "pygments_lexer": "ipython2",
   "version": "2.7.6"
  }
 },
 "nbformat": 4,
 "nbformat_minor": 0
}