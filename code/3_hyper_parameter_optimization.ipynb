{
 "cells": [
  {
   "cell_type": "code",
   "execution_count": 1,
   "metadata": {
    "collapsed": true
   },
   "outputs": [],
   "source": [
    "from scipy import sparse\n",
    "import numpy as np\n",
    "from sklearn import svm\n",
    "from sklearn.metrics import mean_squared_error"
   ]
  },
  {
   "cell_type": "code",
   "execution_count": 2,
   "outputs": [],
   "source": [
    "train_X = sparse.load_npz('../preprocessed_data/train_X.npz')\n",
    "train_y = np.load('../preprocessed_data/train_y.npy')"
   ],
   "metadata": {
    "collapsed": false,
    "pycharm": {
     "name": "#%%\n"
    }
   }
  },
  {
   "cell_type": "code",
   "execution_count": 3,
   "outputs": [],
   "source": [
    "valid_X = sparse.load_npz('../preprocessed_data/valid_X.npz')\n",
    "valid_y = np.load('../preprocessed_data/valid_y.npy')"
   ],
   "metadata": {
    "collapsed": false,
    "pycharm": {
     "name": "#%%\n"
    }
   }
  },
  {
   "cell_type": "code",
   "execution_count": 4,
   "outputs": [
    {
     "name": "stdout",
     "output_type": "stream",
     "text": [
      "current C is: 1, mse is 2.6636335061698415\n",
      "current C is: 3, mse is 2.6568992067832204\n",
      "current C is: 5, mse is 2.657489435082039\n",
      "current C is: 7, mse is 2.659130025272169\n",
      "current C is: 9, mse is 2.6559903075100926\n"
     ]
    },
    {
     "name": "stderr",
     "output_type": "stream",
     "text": [
      "E:\\anaconda3\\envs\\ads\\lib\\site-packages\\sklearn\\svm\\_base.py:986: ConvergenceWarning: Liblinear failed to converge, increase the number of iterations.\n",
      "  \"the number of iterations.\", ConvergenceWarning)\n",
      "E:\\anaconda3\\envs\\ads\\lib\\site-packages\\sklearn\\svm\\_base.py:986: ConvergenceWarning: Liblinear failed to converge, increase the number of iterations.\n",
      "  \"the number of iterations.\", ConvergenceWarning)\n",
      "E:\\anaconda3\\envs\\ads\\lib\\site-packages\\sklearn\\svm\\_base.py:986: ConvergenceWarning: Liblinear failed to converge, increase the number of iterations.\n",
      "  \"the number of iterations.\", ConvergenceWarning)\n",
      "E:\\anaconda3\\envs\\ads\\lib\\site-packages\\sklearn\\svm\\_base.py:986: ConvergenceWarning: Liblinear failed to converge, increase the number of iterations.\n",
      "  \"the number of iterations.\", ConvergenceWarning)\n"
     ]
    }
   ],
   "source": [
    "def get_evaluation_metrics(c, y_true, y_pred):\n",
    "    print('current C is: {}, mse is {}'.format(c, mean_squared_error(y_true, y_pred)))\n",
    "\n",
    "for c in range(1, 11, 2):\n",
    "    svc = svm.LinearSVR(C=c)\n",
    "    svc.fit(train_X, train_y)\n",
    "    valid_pred = svc.predict(valid_X)\n",
    "    get_evaluation_metrics(c, valid_y, valid_pred)\n",
    "\n"
   ],
   "metadata": {
    "collapsed": false,
    "pycharm": {
     "name": "#%%\n"
    }
   }
  }
 ],
 "metadata": {
  "kernelspec": {
   "display_name": "Python 3",
   "language": "python",
   "name": "python3"
  },
  "language_info": {
   "codemirror_mode": {
    "name": "ipython",
    "version": 2
   },
   "file_extension": ".py",
   "mimetype": "text/x-python",
   "name": "python",
   "nbconvert_exporter": "python",
   "pygments_lexer": "ipython2",
   "version": "2.7.6"
  }
 },
 "nbformat": 4,
 "nbformat_minor": 0
}