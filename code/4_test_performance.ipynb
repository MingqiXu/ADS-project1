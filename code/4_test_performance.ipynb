{
 "cells": [
  {
   "cell_type": "code",
   "execution_count": 1,
   "metadata": {
    "collapsed": true
   },
   "outputs": [],
   "source": [
    "from scipy import sparse\n",
    "import pandas as pd\n",
    "import numpy as np\n",
    "from sklearn import svm\n",
    "from sklearn.metrics import mean_absolute_percentage_error, mean_squared_error, r2_score, mean_absolute_error"
   ]
  },
  {
   "cell_type": "code",
   "execution_count": 2,
   "outputs": [],
   "source": [
    "train_X = sparse.load_npz('../preprocessed_data/train_X.npz')\n",
    "train_y = np.load('../preprocessed_data/train_y.npy')\n",
    "test_X = sparse.load_npz('../preprocessed_data/test_X.npz')\n",
    "test_y = np.load('../preprocessed_data/test_y.npy')\n"
   ],
   "metadata": {
    "collapsed": false,
    "pycharm": {
     "name": "#%%\n"
    }
   }
  },
  {
   "cell_type": "markdown",
   "source": [
    "# Baseline\n"
   ],
   "metadata": {
    "collapsed": false
   }
  },
  {
   "cell_type": "code",
   "execution_count": 3,
   "outputs": [],
   "source": [
    "test_mean = [np.mean(test_y)] * len(test_y)\n",
    "test_median = [np.median(test_y)] * len(test_y)\n"
   ],
   "metadata": {
    "collapsed": false,
    "pycharm": {
     "name": "#%%\n"
    }
   }
  },
  {
   "cell_type": "code",
   "execution_count": 4,
   "outputs": [
    {
     "name": "stdout",
     "output_type": "stream",
     "text": [
      "mean\n",
      "7.700773940473848\n",
      "0.9286544865855756\n",
      "107.6848077457088\n",
      "0.0\n",
      "median\n",
      "7.382275644107646\n",
      "0.7340606506803212\n",
      "115.02961920995297\n",
      "-0.06820657080605552\n"
     ]
    }
   ],
   "source": [
    "print('mean')\n",
    "\n",
    "print(mean_absolute_error(test_y, test_mean))\n",
    "print(mean_absolute_percentage_error(test_y, test_mean))\n",
    "print(mean_squared_error(test_y, test_mean))\n",
    "print(r2_score(test_y, test_mean))\n",
    "\n",
    "print('median')\n",
    "\n",
    "print(mean_absolute_error(test_y, test_median))\n",
    "print(mean_absolute_percentage_error(test_y, test_median))\n",
    "print(mean_squared_error(test_y, test_median))\n",
    "print(r2_score(test_y, test_median))"
   ],
   "metadata": {
    "collapsed": false,
    "pycharm": {
     "name": "#%%\n"
    }
   }
  },
  {
   "cell_type": "markdown",
   "source": [
    "# model performance\n"
   ],
   "metadata": {
    "collapsed": false
   }
  },
  {
   "cell_type": "code",
   "execution_count": 5,
   "outputs": [
    {
     "data": {
      "text/plain": "array([ 6.86342519,  8.52360522,  3.59944704, ..., 10.56124303,\n       11.02064937, 17.38139815])"
     },
     "execution_count": 5,
     "metadata": {},
     "output_type": "execute_result"
    }
   ],
   "source": [
    "svc = svm.LinearSVR()\n",
    "svc.fit(train_X, train_y)\n",
    "test_pred = svc.predict(test_X)\n",
    "test_pred\n"
   ],
   "metadata": {
    "collapsed": false,
    "pycharm": {
     "name": "#%%\n"
    }
   }
  },
  {
   "cell_type": "code",
   "execution_count": 6,
   "outputs": [
    {
     "name": "stdout",
     "output_type": "stream",
     "text": [
      "0.9159859113447364\n",
      "0.08738091307197553\n",
      "2.9886044150848052\n",
      "0.9722467404859726\n"
     ]
    }
   ],
   "source": [
    "print(mean_absolute_error(test_y, test_pred))\n",
    "print(mean_absolute_percentage_error(test_y, test_pred))\n",
    "print(mean_squared_error(test_y, test_pred))\n",
    "print(r2_score(test_y, test_pred))\n",
    "\n"
   ],
   "metadata": {
    "collapsed": false,
    "pycharm": {
     "name": "#%%\n"
    }
   }
  },
  {
   "cell_type": "code",
   "execution_count": 7,
   "outputs": [
    {
     "name": "stdout",
     "output_type": "stream",
     "text": [
      "name        PULocationID\n",
      "category               3\n",
      "coef          415.552894\n",
      "Name: 2, dtype: object\n",
      "name        PULocationID\n",
      "category             123\n",
      "coef                 0.0\n",
      "Name: 115, dtype: object\n"
     ]
    },
    {
     "data": {
      "text/plain": "             name category          coef\n1    PULocationID        2  2.157783e+02\n4    PULocationID        5  2.757300e+01\n300  DOLocationID       49  1.472074e+01\n457  DOLocationID      209  1.447828e+01\n261  DOLocationID       10  1.300407e+01\n..            ...      ...           ...\n172  PULocationID      182  1.174548e-03\n117  PULocationID      125  2.220446e-16\n207  PULocationID      219  1.110223e-16\n258  DOLocationID        7  5.551115e-17\n114  PULocationID      122  0.000000e+00\n\n[571 rows x 3 columns]",
      "text/html": "<div>\n<style scoped>\n    .dataframe tbody tr th:only-of-type {\n        vertical-align: middle;\n    }\n\n    .dataframe tbody tr th {\n        vertical-align: top;\n    }\n\n    .dataframe thead th {\n        text-align: right;\n    }\n</style>\n<table border=\"1\" class=\"dataframe\">\n  <thead>\n    <tr style=\"text-align: right;\">\n      <th></th>\n      <th>name</th>\n      <th>category</th>\n      <th>coef</th>\n    </tr>\n  </thead>\n  <tbody>\n    <tr>\n      <th>1</th>\n      <td>PULocationID</td>\n      <td>2</td>\n      <td>2.157783e+02</td>\n    </tr>\n    <tr>\n      <th>4</th>\n      <td>PULocationID</td>\n      <td>5</td>\n      <td>2.757300e+01</td>\n    </tr>\n    <tr>\n      <th>300</th>\n      <td>DOLocationID</td>\n      <td>49</td>\n      <td>1.472074e+01</td>\n    </tr>\n    <tr>\n      <th>457</th>\n      <td>DOLocationID</td>\n      <td>209</td>\n      <td>1.447828e+01</td>\n    </tr>\n    <tr>\n      <th>261</th>\n      <td>DOLocationID</td>\n      <td>10</td>\n      <td>1.300407e+01</td>\n    </tr>\n    <tr>\n      <th>...</th>\n      <td>...</td>\n      <td>...</td>\n      <td>...</td>\n    </tr>\n    <tr>\n      <th>172</th>\n      <td>PULocationID</td>\n      <td>182</td>\n      <td>1.174548e-03</td>\n    </tr>\n    <tr>\n      <th>117</th>\n      <td>PULocationID</td>\n      <td>125</td>\n      <td>2.220446e-16</td>\n    </tr>\n    <tr>\n      <th>207</th>\n      <td>PULocationID</td>\n      <td>219</td>\n      <td>1.110223e-16</td>\n    </tr>\n    <tr>\n      <th>258</th>\n      <td>DOLocationID</td>\n      <td>7</td>\n      <td>5.551115e-17</td>\n    </tr>\n    <tr>\n      <th>114</th>\n      <td>PULocationID</td>\n      <td>122</td>\n      <td>0.000000e+00</td>\n    </tr>\n  </tbody>\n</table>\n<p>571 rows × 3 columns</p>\n</div>"
     },
     "execution_count": 7,
     "metadata": {},
     "output_type": "execute_result"
    }
   ],
   "source": [
    "attribute_dic = pd.read_csv('../preprocessed_data/attribute_dic.csv', index_col=0)\n",
    "attribute_dic['coef'] = np.abs(svc.coef_)\n",
    "attribute_dic.sort_values(by=['coef'] , inplace=True, ascending=False)\n",
    "\n",
    "print(attribute_dic.iloc[0,:])\n",
    "print(attribute_dic.iloc[-1,:])\n",
    "\n",
    "attribute_dic = attribute_dic.iloc[1:-1, :]\n",
    "attribute_dic.to_csv('../preprocessed_data/svm_coef.csv')\n",
    "attribute_dic"
   ],
   "metadata": {
    "collapsed": false,
    "pycharm": {
     "name": "#%%\n"
    }
   }
  },
  {
   "cell_type": "code",
   "execution_count": 8,
   "outputs": [
    {
     "data": {
      "text/plain": "                     coef\nname                     \nDOLocationID     2.626293\npayment_type     2.492870\nweekday          2.471128\nPULocationID     1.847590\ntotal_amount     0.310154\nhour             0.263377\npassenger_count  0.229287\ntip_amount       0.186909\nweather          0.153807\ntrip_distance    0.139108\nfare_amount      0.072211",
      "text/html": "<div>\n<style scoped>\n    .dataframe tbody tr th:only-of-type {\n        vertical-align: middle;\n    }\n\n    .dataframe tbody tr th {\n        vertical-align: top;\n    }\n\n    .dataframe thead th {\n        text-align: right;\n    }\n</style>\n<table border=\"1\" class=\"dataframe\">\n  <thead>\n    <tr style=\"text-align: right;\">\n      <th></th>\n      <th>coef</th>\n    </tr>\n    <tr>\n      <th>name</th>\n      <th></th>\n    </tr>\n  </thead>\n  <tbody>\n    <tr>\n      <th>DOLocationID</th>\n      <td>2.626293</td>\n    </tr>\n    <tr>\n      <th>payment_type</th>\n      <td>2.492870</td>\n    </tr>\n    <tr>\n      <th>weekday</th>\n      <td>2.471128</td>\n    </tr>\n    <tr>\n      <th>PULocationID</th>\n      <td>1.847590</td>\n    </tr>\n    <tr>\n      <th>total_amount</th>\n      <td>0.310154</td>\n    </tr>\n    <tr>\n      <th>hour</th>\n      <td>0.263377</td>\n    </tr>\n    <tr>\n      <th>passenger_count</th>\n      <td>0.229287</td>\n    </tr>\n    <tr>\n      <th>tip_amount</th>\n      <td>0.186909</td>\n    </tr>\n    <tr>\n      <th>weather</th>\n      <td>0.153807</td>\n    </tr>\n    <tr>\n      <th>trip_distance</th>\n      <td>0.139108</td>\n    </tr>\n    <tr>\n      <th>fare_amount</th>\n      <td>0.072211</td>\n    </tr>\n  </tbody>\n</table>\n</div>"
     },
     "execution_count": 8,
     "metadata": {},
     "output_type": "execute_result"
    }
   ],
   "source": [
    "attribute_dic = attribute_dic.groupby('name').mean()\n",
    "attribute_dic.sort_values(by=['coef'] , inplace=True, ascending=False)\n",
    "attribute_dic.to_csv('../preprocessed_data/svm_coef_groupby.csv')\n",
    "attribute_dic"
   ],
   "metadata": {
    "collapsed": false,
    "pycharm": {
     "name": "#%%\n"
    }
   }
  },
  {
   "cell_type": "code",
   "execution_count": 8,
   "outputs": [],
   "source": [],
   "metadata": {
    "collapsed": false,
    "pycharm": {
     "name": "#%%\n"
    }
   }
  }
 ],
 "metadata": {
  "kernelspec": {
   "display_name": "Python 3",
   "language": "python",
   "name": "python3"
  },
  "language_info": {
   "codemirror_mode": {
    "name": "ipython",
    "version": 2
   },
   "file_extension": ".py",
   "mimetype": "text/x-python",
   "name": "python",
   "nbconvert_exporter": "python",
   "pygments_lexer": "ipython2",
   "version": "2.7.6"
  }
 },
 "nbformat": 4,
 "nbformat_minor": 0
}