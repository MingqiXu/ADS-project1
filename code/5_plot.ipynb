{
 "cells": [
  {
   "cell_type": "code",
   "execution_count": 10,
   "metadata": {
    "collapsed": true
   },
   "outputs": [],
   "source": [
    "import pandas as pd\n",
    "import geopandas as gpd\n",
    "import folium"
   ]
  },
  {
   "cell_type": "code",
   "execution_count": 11,
   "outputs": [
    {
     "data": {
      "text/plain": "     PULocationID  trip_time_cost\n0               1       19.470513\n1               2        8.333333\n2               3       32.310714\n3               4       14.109761\n4               6       42.400000\n..            ...             ...\n252           261       19.013458\n253           262       11.813273\n254           263       11.145030\n255           264       14.341935\n256           265       15.906416\n\n[257 rows x 2 columns]",
      "text/html": "<div>\n<style scoped>\n    .dataframe tbody tr th:only-of-type {\n        vertical-align: middle;\n    }\n\n    .dataframe tbody tr th {\n        vertical-align: top;\n    }\n\n    .dataframe thead th {\n        text-align: right;\n    }\n</style>\n<table border=\"1\" class=\"dataframe\">\n  <thead>\n    <tr style=\"text-align: right;\">\n      <th></th>\n      <th>PULocationID</th>\n      <th>trip_time_cost</th>\n    </tr>\n  </thead>\n  <tbody>\n    <tr>\n      <th>0</th>\n      <td>1</td>\n      <td>19.470513</td>\n    </tr>\n    <tr>\n      <th>1</th>\n      <td>2</td>\n      <td>8.333333</td>\n    </tr>\n    <tr>\n      <th>2</th>\n      <td>3</td>\n      <td>32.310714</td>\n    </tr>\n    <tr>\n      <th>3</th>\n      <td>4</td>\n      <td>14.109761</td>\n    </tr>\n    <tr>\n      <th>4</th>\n      <td>6</td>\n      <td>42.400000</td>\n    </tr>\n    <tr>\n      <th>...</th>\n      <td>...</td>\n      <td>...</td>\n    </tr>\n    <tr>\n      <th>252</th>\n      <td>261</td>\n      <td>19.013458</td>\n    </tr>\n    <tr>\n      <th>253</th>\n      <td>262</td>\n      <td>11.813273</td>\n    </tr>\n    <tr>\n      <th>254</th>\n      <td>263</td>\n      <td>11.145030</td>\n    </tr>\n    <tr>\n      <th>255</th>\n      <td>264</td>\n      <td>14.341935</td>\n    </tr>\n    <tr>\n      <th>256</th>\n      <td>265</td>\n      <td>15.906416</td>\n    </tr>\n  </tbody>\n</table>\n<p>257 rows × 2 columns</p>\n</div>"
     },
     "execution_count": 11,
     "metadata": {},
     "output_type": "execute_result"
    }
   ],
   "source": [
    "df = pd.read_feather('../preprocessed_data/2018_9_1_2018_9_30.feather')[['PULocationID','trip_time_cost']]\n",
    "distance_df = df.groupby('PULocationID').mean().reset_index()\n",
    "distance_df"
   ],
   "metadata": {
    "collapsed": false,
    "pycharm": {
     "name": "#%%\n"
    }
   }
  },
  {
   "cell_type": "code",
   "execution_count": 12,
   "outputs": [],
   "source": [
    "sf = gpd.read_file(\"../raw_data/taxi_zones.shp\")\n",
    "zone = pd.read_csv(\"../raw_data/taxi+_zone_lookup.csv\")\n",
    "sf['geometry'] = sf['geometry'].to_crs(\"+proj=longlat +ellps=WGS84 +datum=WGS84 +no_defs\")\n"
   ],
   "metadata": {
    "collapsed": false,
    "pycharm": {
     "name": "#%%\n"
    }
   }
  },
  {
   "cell_type": "code",
   "execution_count": 13,
   "outputs": [],
   "source": [
    "gdf = gpd.GeoDataFrame(pd.merge(distance_df, sf, left_on='PULocationID', right_on='LocationID')).drop('PULocationID',axis=1)\n",
    "geoJSON = gdf[['LocationID','geometry']].drop_duplicates('LocationID').to_json()"
   ],
   "metadata": {
    "collapsed": false,
    "pycharm": {
     "name": "#%%\n"
    }
   }
  },
  {
   "cell_type": "code",
   "execution_count": 14,
   "outputs": [],
   "source": [
    "m_trip_time_cost = folium.Map(location=[40.66, -73.94], tiles=\"Stamen Terrain\", zoom_start=10)\n",
    "\n",
    "# refer to the folium documentations on more information on how to plot aggregated data.\n",
    "folium.Choropleth(\n",
    "    geo_data=geoJSON, # geoJSON\n",
    "    name='choropleth', # name of plot\n",
    "    data=gdf, # data source\n",
    "    columns=['LocationID','trip_time_cost'], # the columns required\n",
    "    key_on='properties.LocationID', # this is from the geoJSON's properties\n",
    "    fill_color='OrRd', # color scheme\n",
    "    fill_opacity=0.9,\n",
    "    line_opacity=0.5,\n",
    "    legend_name='Trips' # legend title\n",
    ").add_to(m_trip_time_cost)\n",
    "\n",
    "m_trip_time_cost.save('../plots/mean_trip_time_cost.html')\n"
   ],
   "metadata": {
    "collapsed": false,
    "pycharm": {
     "name": "#%%\n"
    }
   }
  },
  {
   "cell_type": "code",
   "execution_count": 15,
   "outputs": [],
   "source": [
    "# find where is LocationID 2,3"
   ],
   "metadata": {
    "collapsed": false,
    "pycharm": {
     "name": "#%%\n"
    }
   }
  },
  {
   "cell_type": "code",
   "execution_count": 16,
   "outputs": [],
   "source": [
    "location = pd.DataFrame([[2,100],[3,100]], columns=['LocationID', 'height_light'])\n",
    "\n",
    "\n",
    "m_trip_time_cost = folium.Map(location=[40.66, -73.94], tiles=\"Stamen Terrain\", zoom_start=10)\n",
    "\n",
    "# refer to the folium documentations on more information on how to plot aggregated data.\n",
    "folium.Choropleth(\n",
    "    geo_data=geoJSON, # geoJSON\n",
    "    name='choropleth', # name of plot\n",
    "    data=location, # data source\n",
    "    columns=['LocationID','height_light'], # the columns required\n",
    "    key_on='properties.LocationID', # this is from the geoJSON's properties\n",
    "    fill_color='OrRd', # color scheme\n",
    "    fill_opacity=0.9,\n",
    "    line_opacity=0.5,\n",
    "    legend_name='Trips' # legend title\n",
    ").add_to(m_trip_time_cost)\n",
    "\n",
    "m_trip_time_cost.save('../plots/height_light_2_3.html')"
   ],
   "metadata": {
    "collapsed": false,
    "pycharm": {
     "name": "#%%\n"
    }
   }
  },
  {
   "cell_type": "code",
   "execution_count": 17,
   "outputs": [
    {
     "data": {
      "text/plain": "         PULocationID  trip_time_cost\n184444              3       10.983333\n563340              3       60.666667\n658004              2        8.333333\n1490879             3       41.350000\n1842578             3       15.316667\n2218011             3       19.833333\n2375833             3        5.966667\n2839766             3       11.033333\n3051223             3       69.350000\n3359554             3       42.050000\n3472661             3       32.816667\n3628509             3       44.150000\n3926376             3       12.683333\n4264259             3       43.433333\n4282912             3       42.716667",
      "text/html": "<div>\n<style scoped>\n    .dataframe tbody tr th:only-of-type {\n        vertical-align: middle;\n    }\n\n    .dataframe tbody tr th {\n        vertical-align: top;\n    }\n\n    .dataframe thead th {\n        text-align: right;\n    }\n</style>\n<table border=\"1\" class=\"dataframe\">\n  <thead>\n    <tr style=\"text-align: right;\">\n      <th></th>\n      <th>PULocationID</th>\n      <th>trip_time_cost</th>\n    </tr>\n  </thead>\n  <tbody>\n    <tr>\n      <th>184444</th>\n      <td>3</td>\n      <td>10.983333</td>\n    </tr>\n    <tr>\n      <th>563340</th>\n      <td>3</td>\n      <td>60.666667</td>\n    </tr>\n    <tr>\n      <th>658004</th>\n      <td>2</td>\n      <td>8.333333</td>\n    </tr>\n    <tr>\n      <th>1490879</th>\n      <td>3</td>\n      <td>41.350000</td>\n    </tr>\n    <tr>\n      <th>1842578</th>\n      <td>3</td>\n      <td>15.316667</td>\n    </tr>\n    <tr>\n      <th>2218011</th>\n      <td>3</td>\n      <td>19.833333</td>\n    </tr>\n    <tr>\n      <th>2375833</th>\n      <td>3</td>\n      <td>5.966667</td>\n    </tr>\n    <tr>\n      <th>2839766</th>\n      <td>3</td>\n      <td>11.033333</td>\n    </tr>\n    <tr>\n      <th>3051223</th>\n      <td>3</td>\n      <td>69.350000</td>\n    </tr>\n    <tr>\n      <th>3359554</th>\n      <td>3</td>\n      <td>42.050000</td>\n    </tr>\n    <tr>\n      <th>3472661</th>\n      <td>3</td>\n      <td>32.816667</td>\n    </tr>\n    <tr>\n      <th>3628509</th>\n      <td>3</td>\n      <td>44.150000</td>\n    </tr>\n    <tr>\n      <th>3926376</th>\n      <td>3</td>\n      <td>12.683333</td>\n    </tr>\n    <tr>\n      <th>4264259</th>\n      <td>3</td>\n      <td>43.433333</td>\n    </tr>\n    <tr>\n      <th>4282912</th>\n      <td>3</td>\n      <td>42.716667</td>\n    </tr>\n  </tbody>\n</table>\n</div>"
     },
     "execution_count": 17,
     "metadata": {},
     "output_type": "execute_result"
    }
   ],
   "source": [
    "df[df[\"PULocationID\"].isin([2,3])]"
   ],
   "metadata": {
    "collapsed": false,
    "pycharm": {
     "name": "#%%\n"
    }
   }
  },
  {
   "cell_type": "code",
   "execution_count": 18,
   "outputs": [
    {
     "data": {
      "text/plain": "(15, 2)"
     },
     "execution_count": 18,
     "metadata": {},
     "output_type": "execute_result"
    }
   ],
   "source": [
    "df[df[\"PULocationID\"].isin([2,3])].shape"
   ],
   "metadata": {
    "collapsed": false,
    "pycharm": {
     "name": "#%%\n"
    }
   }
  }
 ],
 "metadata": {
  "kernelspec": {
   "name": "pycharm-b15d2332",
   "language": "python",
   "display_name": "PyCharm (ads_sponsor)"
  },
  "language_info": {
   "codemirror_mode": {
    "name": "ipython",
    "version": 2
   },
   "file_extension": ".py",
   "mimetype": "text/x-python",
   "name": "python",
   "nbconvert_exporter": "python",
   "pygments_lexer": "ipython2",
   "version": "2.7.6"
  }
 },
 "nbformat": 4,
 "nbformat_minor": 0
}